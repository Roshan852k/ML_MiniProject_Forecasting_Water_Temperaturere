{
 "cells": [
  {
   "cell_type": "markdown",
   "metadata": {},
   "source": [
    "# Develop a machine learning model to predict water temperature. The CalCOFI dataset represents the longest (1949-present) and most complete (more than 50,000 sampling stations) time series of oceanographic and larval fish data in the world. It includes abundance data on the larvae of over 250 species of fish; larval length frequency data and egg abundance data on key commercial species; and oceanographic and plankton data. The physical, chemical, and biological data collected at regular time and space intervals quickly became valuable for documenting climatic cycles in the California Current and a range of biological responses to them. CalCOFI research drew world attention to the biological response to the dramatic Pacific-warming event in 1957–58 and introduced the term “El Ni˜no” into the scientific literature. Use bottle.csv.Dataset"
   ]
  },
  {
   "cell_type": "code",
   "execution_count": 2,
   "metadata": {
    "id": "qF1Q2ewMTLdD"
   },
   "outputs": [],
   "source": [
    "import numpy as np\n",
    "import pandas as pd\n",
    "import seaborn as sns\n",
    "import matplotlib.pyplot as plt\n",
    "import copy\n",
    "from sklearn.model_selection import train_test_split\n",
    "from sklearn.metrics import mean_squared_error"
   ]
  },
  {
   "cell_type": "markdown",
   "metadata": {
    "id": "TQ9wfQ--U29l"
   },
   "source": [
    "the study of the marine environment off the coast of California, the management of its living resources, and monitoring the indicators of El Nino and climate change. CalCOFI conducts quarterly cruises off southern & central California, collecting a suite of hydrographic and biological data on station and underway. Data collected at depths down to 500 m include: temperature, salinity, oxygen, phosphate, silicate, nitrate and nitrite, chlorophyll, transmissometer, PAR, C14 primary productivity, phytoplankton biodiversity, zooplankton biomass, and zooplankton biodiversity."
   ]
  },
  {
   "cell_type": "code",
   "execution_count": 3,
   "metadata": {},
   "outputs": [],
   "source": [
    "def calculate_corr_matrix(df):\n",
    "    \n",
    "    column_names = df.columns\n",
    "    col_len = len(column_names)\n",
    "    \n",
    "    matrix = {col:{each:0 for each in df} for col in df}\n",
    "    \n",
    "    for i in range(col_len):\n",
    "        for j in range(i,col_len):\n",
    "            left = column_names[i]\n",
    "            right = column_names[j]\n",
    "            \n",
    "            left_col_mean = df[left].mean()\n",
    "            right_col_mean = df[right].mean()\n",
    "            \n",
    "            std_dev_left = df[left].std()\n",
    "            std_dev_right = df[right].std()\n",
    "            \n",
    "            covar = ((df[left]-left_col_mean)*(df[right]-right_col_mean)).mean()\n",
    "            corr = covar/(std_dev_left * std_dev_right) \n",
    "            matrix[left][right] = corr\n",
    "            matrix[right][left] = corr\n",
    "            \n",
    "    return matrix\n",
    "\n",
    "# extracting columns with values above threshold\n",
    "\n",
    "# def correlated_columns(data,threshold):\n",
    "#     correlated_columns = set()\n",
    "#     matrix = pd.DataFrame(calculate_corr_matrix(data))\n",
    "#     for i in range(len(data.columns)):\n",
    "#         for j in range(i):\n",
    "#             if abs(matrix.iloc[i,j]) > threshold:\n",
    "#                 column_name = matrix.columns[i]\n",
    "#                 correlated_columns.add(column_name)\n",
    "#     return correlated_columns\n",
    "\n",
    "\n",
    "def myScaler(X):\n",
    "    mean = X.mean()\n",
    "    std = X.std()\n",
    "    X = (X-mean)/std\n",
    "    return X\n",
    "\n",
    "\n",
    "def time_series_cross_validation(model, X, y, n_splits=5):\n",
    "\n",
    "    n_samples = X.shape[0]\n",
    "    fold_size = n_samples // (n_splits + 1)\n",
    "    mse_scores = []\n",
    "    \n",
    "    for i in range(n_splits):\n",
    "        \n",
    "        train_end = fold_size * (i + 1)\n",
    "        X_train, y_train = X[:train_end], y[:train_end]\n",
    "        X_valid, y_valid = X[train_end:train_end + fold_size], y[train_end:train_end + fold_size]\n",
    "\n",
    "        model.fit(X_train, y_train)\n",
    "\n",
    "        y_pred = model.predict(X_valid)\n",
    "\n",
    "        mse = sum((a-p)**2 for a,p in zip(y_valid,y_pred))/len(y_valid)\n",
    "        mse_scores.append(mse)\n",
    "        print(f\"Fold {i + 1}: MSE = {mse:.4f}\")\n",
    "        \n",
    "    print(\"MSE mean: \",sum(mse_scores)/n_splits)\n",
    "\n",
    "\n",
    "def MSE(y_valid,y_pred):\n",
    "    return sum((a-p)**2 for a,p in zip(y_valid,y_pred))/len(y_valid)"
   ]
  },
  {
   "cell_type": "code",
   "execution_count": 4,
   "metadata": {},
   "outputs": [],
   "source": [
    "class MyLinearRegression:\n",
    "    def __init__(self, alpha=0.01):\n",
    "        self.alpha = alpha\n",
    "        self.W = None\n",
    "\n",
    "    def fit(self, X, Y):\n",
    "\n",
    "        n_s, n_f = X.shape\n",
    "        self.W = np.zeros(n_f)\n",
    "       \n",
    "        penalty = self.alpha * np.eye(n_f)\n",
    "        X_bias = np.hstack((np.ones((n_s, 1)), X))\n",
    "        penalty = self.alpha * np.eye(X_bias.shape[1])\n",
    "        penalty[0, 0] = 0 \n",
    "        self.W = np.linalg.inv(X_bias.T.dot(X_bias) + penalty).dot(X_bias.T).dot(Y)\n",
    "\n",
    "    def predict(self, X):\n",
    "\n",
    "        n_s = X.shape[0]\n",
    "        X_bias = np.hstack((np.ones((n_s, 1)), X))\n",
    "        return pd.Series(X_bias.dot(self.W))\n"
   ]
  },
  {
   "cell_type": "code",
   "execution_count": 5,
   "metadata": {
    "colab": {
     "base_uri": "https://localhost:8080/",
     "height": 912
    },
    "id": "VWfuBhIdUeRU",
    "outputId": "b0905dc2-e48c-4156-c6d9-6f37fdb197df"
   },
   "outputs": [],
   "source": [
    "bottleData = pd.read_csv('bottle.csv',dtype = {47:'str',73:'str'})"
   ]
  },
  {
   "cell_type": "code",
   "execution_count": 6,
   "metadata": {
    "colab": {
     "base_uri": "https://localhost:8080/",
     "height": 159
    },
    "id": "U8YhP_g3C4xq",
    "outputId": "ed5dca9e-3348-4f06-a5fa-e4ab5458b51e"
   },
   "outputs": [],
   "source": [
    "bottleCopy = copy.deepcopy(bottleData)"
   ]
  },
  {
   "cell_type": "code",
   "execution_count": 7,
   "metadata": {},
   "outputs": [
    {
     "data": {
      "text/html": [
       "<div>\n",
       "<style scoped>\n",
       "    .dataframe tbody tr th:only-of-type {\n",
       "        vertical-align: middle;\n",
       "    }\n",
       "\n",
       "    .dataframe tbody tr th {\n",
       "        vertical-align: top;\n",
       "    }\n",
       "\n",
       "    .dataframe thead th {\n",
       "        text-align: right;\n",
       "    }\n",
       "</style>\n",
       "<table border=\"1\" class=\"dataframe\">\n",
       "  <thead>\n",
       "    <tr style=\"text-align: right;\">\n",
       "      <th></th>\n",
       "      <th>Cst_Cnt</th>\n",
       "      <th>Btl_Cnt</th>\n",
       "      <th>Sta_ID</th>\n",
       "      <th>Depth_ID</th>\n",
       "      <th>Depthm</th>\n",
       "      <th>T_degC</th>\n",
       "      <th>Salnty</th>\n",
       "      <th>O2ml_L</th>\n",
       "      <th>STheta</th>\n",
       "      <th>O2Sat</th>\n",
       "      <th>...</th>\n",
       "      <th>R_PHAEO</th>\n",
       "      <th>R_PRES</th>\n",
       "      <th>R_SAMP</th>\n",
       "      <th>DIC1</th>\n",
       "      <th>DIC2</th>\n",
       "      <th>TA1</th>\n",
       "      <th>TA2</th>\n",
       "      <th>pH2</th>\n",
       "      <th>pH1</th>\n",
       "      <th>DIC Quality Comment</th>\n",
       "    </tr>\n",
       "  </thead>\n",
       "  <tbody>\n",
       "    <tr>\n",
       "      <th>0</th>\n",
       "      <td>1</td>\n",
       "      <td>1</td>\n",
       "      <td>054.0 056.0</td>\n",
       "      <td>19-4903CR-HY-060-0930-05400560-0000A-3</td>\n",
       "      <td>0</td>\n",
       "      <td>10.50</td>\n",
       "      <td>33.440</td>\n",
       "      <td>NaN</td>\n",
       "      <td>25.649</td>\n",
       "      <td>NaN</td>\n",
       "      <td>...</td>\n",
       "      <td>NaN</td>\n",
       "      <td>0</td>\n",
       "      <td>NaN</td>\n",
       "      <td>NaN</td>\n",
       "      <td>NaN</td>\n",
       "      <td>NaN</td>\n",
       "      <td>NaN</td>\n",
       "      <td>NaN</td>\n",
       "      <td>NaN</td>\n",
       "      <td>NaN</td>\n",
       "    </tr>\n",
       "    <tr>\n",
       "      <th>1</th>\n",
       "      <td>1</td>\n",
       "      <td>2</td>\n",
       "      <td>054.0 056.0</td>\n",
       "      <td>19-4903CR-HY-060-0930-05400560-0008A-3</td>\n",
       "      <td>8</td>\n",
       "      <td>10.46</td>\n",
       "      <td>33.440</td>\n",
       "      <td>NaN</td>\n",
       "      <td>25.656</td>\n",
       "      <td>NaN</td>\n",
       "      <td>...</td>\n",
       "      <td>NaN</td>\n",
       "      <td>8</td>\n",
       "      <td>NaN</td>\n",
       "      <td>NaN</td>\n",
       "      <td>NaN</td>\n",
       "      <td>NaN</td>\n",
       "      <td>NaN</td>\n",
       "      <td>NaN</td>\n",
       "      <td>NaN</td>\n",
       "      <td>NaN</td>\n",
       "    </tr>\n",
       "    <tr>\n",
       "      <th>2</th>\n",
       "      <td>1</td>\n",
       "      <td>3</td>\n",
       "      <td>054.0 056.0</td>\n",
       "      <td>19-4903CR-HY-060-0930-05400560-0010A-7</td>\n",
       "      <td>10</td>\n",
       "      <td>10.46</td>\n",
       "      <td>33.437</td>\n",
       "      <td>NaN</td>\n",
       "      <td>25.654</td>\n",
       "      <td>NaN</td>\n",
       "      <td>...</td>\n",
       "      <td>NaN</td>\n",
       "      <td>10</td>\n",
       "      <td>NaN</td>\n",
       "      <td>NaN</td>\n",
       "      <td>NaN</td>\n",
       "      <td>NaN</td>\n",
       "      <td>NaN</td>\n",
       "      <td>NaN</td>\n",
       "      <td>NaN</td>\n",
       "      <td>NaN</td>\n",
       "    </tr>\n",
       "    <tr>\n",
       "      <th>3</th>\n",
       "      <td>1</td>\n",
       "      <td>4</td>\n",
       "      <td>054.0 056.0</td>\n",
       "      <td>19-4903CR-HY-060-0930-05400560-0019A-3</td>\n",
       "      <td>19</td>\n",
       "      <td>10.45</td>\n",
       "      <td>33.420</td>\n",
       "      <td>NaN</td>\n",
       "      <td>25.643</td>\n",
       "      <td>NaN</td>\n",
       "      <td>...</td>\n",
       "      <td>NaN</td>\n",
       "      <td>19</td>\n",
       "      <td>NaN</td>\n",
       "      <td>NaN</td>\n",
       "      <td>NaN</td>\n",
       "      <td>NaN</td>\n",
       "      <td>NaN</td>\n",
       "      <td>NaN</td>\n",
       "      <td>NaN</td>\n",
       "      <td>NaN</td>\n",
       "    </tr>\n",
       "    <tr>\n",
       "      <th>4</th>\n",
       "      <td>1</td>\n",
       "      <td>5</td>\n",
       "      <td>054.0 056.0</td>\n",
       "      <td>19-4903CR-HY-060-0930-05400560-0020A-7</td>\n",
       "      <td>20</td>\n",
       "      <td>10.45</td>\n",
       "      <td>33.421</td>\n",
       "      <td>NaN</td>\n",
       "      <td>25.643</td>\n",
       "      <td>NaN</td>\n",
       "      <td>...</td>\n",
       "      <td>NaN</td>\n",
       "      <td>20</td>\n",
       "      <td>NaN</td>\n",
       "      <td>NaN</td>\n",
       "      <td>NaN</td>\n",
       "      <td>NaN</td>\n",
       "      <td>NaN</td>\n",
       "      <td>NaN</td>\n",
       "      <td>NaN</td>\n",
       "      <td>NaN</td>\n",
       "    </tr>\n",
       "  </tbody>\n",
       "</table>\n",
       "<p>5 rows × 74 columns</p>\n",
       "</div>"
      ],
      "text/plain": [
       "   Cst_Cnt  Btl_Cnt       Sta_ID                                Depth_ID  \\\n",
       "0        1        1  054.0 056.0  19-4903CR-HY-060-0930-05400560-0000A-3   \n",
       "1        1        2  054.0 056.0  19-4903CR-HY-060-0930-05400560-0008A-3   \n",
       "2        1        3  054.0 056.0  19-4903CR-HY-060-0930-05400560-0010A-7   \n",
       "3        1        4  054.0 056.0  19-4903CR-HY-060-0930-05400560-0019A-3   \n",
       "4        1        5  054.0 056.0  19-4903CR-HY-060-0930-05400560-0020A-7   \n",
       "\n",
       "   Depthm  T_degC  Salnty  O2ml_L  STheta  O2Sat  ...  R_PHAEO  R_PRES  \\\n",
       "0       0   10.50  33.440     NaN  25.649    NaN  ...      NaN       0   \n",
       "1       8   10.46  33.440     NaN  25.656    NaN  ...      NaN       8   \n",
       "2      10   10.46  33.437     NaN  25.654    NaN  ...      NaN      10   \n",
       "3      19   10.45  33.420     NaN  25.643    NaN  ...      NaN      19   \n",
       "4      20   10.45  33.421     NaN  25.643    NaN  ...      NaN      20   \n",
       "\n",
       "   R_SAMP  DIC1  DIC2  TA1  TA2  pH2  pH1  DIC Quality Comment  \n",
       "0     NaN   NaN   NaN  NaN  NaN  NaN  NaN                  NaN  \n",
       "1     NaN   NaN   NaN  NaN  NaN  NaN  NaN                  NaN  \n",
       "2     NaN   NaN   NaN  NaN  NaN  NaN  NaN                  NaN  \n",
       "3     NaN   NaN   NaN  NaN  NaN  NaN  NaN                  NaN  \n",
       "4     NaN   NaN   NaN  NaN  NaN  NaN  NaN                  NaN  \n",
       "\n",
       "[5 rows x 74 columns]"
      ]
     },
     "execution_count": 7,
     "metadata": {},
     "output_type": "execute_result"
    }
   ],
   "source": [
    "bottleCopy.head()"
   ]
  },
  {
   "cell_type": "code",
   "execution_count": 8,
   "metadata": {
    "colab": {
     "base_uri": "https://localhost:8080/",
     "height": 159
    },
    "id": "h2dr2vFcJPAt",
    "outputId": "1dd46862-602c-4ef1-b59c-3cb547c1af0c"
   },
   "outputs": [
    {
     "name": "stdout",
     "output_type": "stream",
     "text": [
      "(864863, 74)\n"
     ]
    }
   ],
   "source": [
    "print(bottleCopy.shape)"
   ]
  },
  {
   "cell_type": "code",
   "execution_count": 9,
   "metadata": {
    "colab": {
     "base_uri": "https://localhost:8080/",
     "height": 141
    },
    "id": "h1T0DRsfVxTa",
    "outputId": "a702d4b8-3ffc-4fb6-9476-e6c2a5a44268"
   },
   "outputs": [
    {
     "name": "stdout",
     "output_type": "stream",
     "text": [
      "<class 'pandas.core.frame.DataFrame'>\n",
      "RangeIndex: 864863 entries, 0 to 864862\n",
      "Data columns (total 74 columns):\n",
      " #   Column               Non-Null Count   Dtype  \n",
      "---  ------               --------------   -----  \n",
      " 0   Cst_Cnt              864863 non-null  int64  \n",
      " 1   Btl_Cnt              864863 non-null  int64  \n",
      " 2   Sta_ID               864863 non-null  object \n",
      " 3   Depth_ID             864863 non-null  object \n",
      " 4   Depthm               864863 non-null  int64  \n",
      " 5   T_degC               853900 non-null  float64\n",
      " 6   Salnty               817509 non-null  float64\n",
      " 7   O2ml_L               696201 non-null  float64\n",
      " 8   STheta               812174 non-null  float64\n",
      " 9   O2Sat                661274 non-null  float64\n",
      " 10  Oxy_µmol/Kg          661268 non-null  float64\n",
      " 11  BtlNum               118667 non-null  float64\n",
      " 12  RecInd               864863 non-null  int64  \n",
      " 13  T_prec               853900 non-null  float64\n",
      " 14  T_qual               23127 non-null   float64\n",
      " 15  S_prec               817509 non-null  float64\n",
      " 16  S_qual               74914 non-null   float64\n",
      " 17  P_qual               673755 non-null  float64\n",
      " 18  O_qual               184676 non-null  float64\n",
      " 19  SThtaq               65823 non-null   float64\n",
      " 20  O2Satq               217797 non-null  float64\n",
      " 21  ChlorA               225272 non-null  float64\n",
      " 22  Chlqua               639166 non-null  float64\n",
      " 23  Phaeop               225271 non-null  float64\n",
      " 24  Phaqua               639170 non-null  float64\n",
      " 25  PO4uM                413317 non-null  float64\n",
      " 26  PO4q                 451786 non-null  float64\n",
      " 27  SiO3uM               354091 non-null  float64\n",
      " 28  SiO3qu               510866 non-null  float64\n",
      " 29  NO2uM                337576 non-null  float64\n",
      " 30  NO2q                 529474 non-null  float64\n",
      " 31  NO3uM                337403 non-null  float64\n",
      " 32  NO3q                 529933 non-null  float64\n",
      " 33  NH3uM                64962 non-null   float64\n",
      " 34  NH3q                 808299 non-null  float64\n",
      " 35  C14As1               14432 non-null   float64\n",
      " 36  C14A1p               12760 non-null   float64\n",
      " 37  C14A1q               848605 non-null  float64\n",
      " 38  C14As2               14414 non-null   float64\n",
      " 39  C14A2p               12742 non-null   float64\n",
      " 40  C14A2q               848623 non-null  float64\n",
      " 41  DarkAs               22649 non-null   float64\n",
      " 42  DarkAp               20457 non-null   float64\n",
      " 43  DarkAq               840440 non-null  float64\n",
      " 44  MeanAs               22650 non-null   float64\n",
      " 45  MeanAp               20457 non-null   float64\n",
      " 46  MeanAq               840439 non-null  float64\n",
      " 47  IncTim               14437 non-null   object \n",
      " 48  LightP               18651 non-null   float64\n",
      " 49  R_Depth              864863 non-null  float64\n",
      " 50  R_TEMP               853900 non-null  float64\n",
      " 51  R_POTEMP             818816 non-null  float64\n",
      " 52  R_SALINITY           817509 non-null  float64\n",
      " 53  R_SIGMA              812007 non-null  float64\n",
      " 54  R_SVA                812092 non-null  float64\n",
      " 55  R_DYNHT              818206 non-null  float64\n",
      " 56  R_O2                 696201 non-null  float64\n",
      " 57  R_O2Sat              666448 non-null  float64\n",
      " 58  R_SIO3               354099 non-null  float64\n",
      " 59  R_PO4                413325 non-null  float64\n",
      " 60  R_NO3                337411 non-null  float64\n",
      " 61  R_NO2                337584 non-null  float64\n",
      " 62  R_NH4                64982 non-null   float64\n",
      " 63  R_CHLA               225276 non-null  float64\n",
      " 64  R_PHAEO              225275 non-null  float64\n",
      " 65  R_PRES               864863 non-null  int64  \n",
      " 66  R_SAMP               122006 non-null  float64\n",
      " 67  DIC1                 1999 non-null    float64\n",
      " 68  DIC2                 224 non-null     float64\n",
      " 69  TA1                  2084 non-null    float64\n",
      " 70  TA2                  234 non-null     float64\n",
      " 71  pH2                  10 non-null      float64\n",
      " 72  pH1                  84 non-null      float64\n",
      " 73  DIC Quality Comment  55 non-null      object \n",
      "dtypes: float64(65), int64(5), object(4)\n",
      "memory usage: 488.3+ MB\n"
     ]
    }
   ],
   "source": [
    "bottleCopy.info()"
   ]
  },
  {
   "cell_type": "code",
   "execution_count": 10,
   "metadata": {},
   "outputs": [],
   "source": [
    "redundant_columns = ['Cst_Cnt','Btl_Cnt','Depth_ID','T_prec','BtlNum','RecInd','T_qual','S_prec','S_qual','P_qual','O_qual','SThtaq','O2Satq','Chlqua','Phaqua','PO4q','SiO3qu','NO2q','NO3q','NH3q','C14A1p','C14A1q','C14As2','C14A2p','C14A2q','DarkAp','DarkAq','MeanAp','MeanAq','IncTim','R_Depth','R_TEMP','R_POTEMP','R_SALINITY','R_SIGMA','R_SVA','R_DYNHT','R_O2','R_O2Sat','R_SIO3','R_PO4','R_NO3','R_NO2','R_NH4','R_CHLA','R_PHAEO','R_PRES','R_SAMP','DIC1','DIC2','TA1','TA2','pH1','pH2','DIC Quality Comment']\n",
    "bottleCopy.drop(columns = redundant_columns,inplace = True)"
   ]
  },
  {
   "cell_type": "code",
   "execution_count": 11,
   "metadata": {},
   "outputs": [
    {
     "name": "stdout",
     "output_type": "stream",
     "text": [
      "<class 'pandas.core.frame.DataFrame'>\n",
      "RangeIndex: 864863 entries, 0 to 864862\n",
      "Data columns (total 19 columns):\n",
      " #   Column       Non-Null Count   Dtype  \n",
      "---  ------       --------------   -----  \n",
      " 0   Sta_ID       864863 non-null  object \n",
      " 1   Depthm       864863 non-null  int64  \n",
      " 2   T_degC       853900 non-null  float64\n",
      " 3   Salnty       817509 non-null  float64\n",
      " 4   O2ml_L       696201 non-null  float64\n",
      " 5   STheta       812174 non-null  float64\n",
      " 6   O2Sat        661274 non-null  float64\n",
      " 7   Oxy_µmol/Kg  661268 non-null  float64\n",
      " 8   ChlorA       225272 non-null  float64\n",
      " 9   Phaeop       225271 non-null  float64\n",
      " 10  PO4uM        413317 non-null  float64\n",
      " 11  SiO3uM       354091 non-null  float64\n",
      " 12  NO2uM        337576 non-null  float64\n",
      " 13  NO3uM        337403 non-null  float64\n",
      " 14  NH3uM        64962 non-null   float64\n",
      " 15  C14As1       14432 non-null   float64\n",
      " 16  DarkAs       22649 non-null   float64\n",
      " 17  MeanAs       22650 non-null   float64\n",
      " 18  LightP       18651 non-null   float64\n",
      "dtypes: float64(17), int64(1), object(1)\n",
      "memory usage: 125.4+ MB\n"
     ]
    }
   ],
   "source": [
    "bottleCopy.info()"
   ]
  },
  {
   "cell_type": "markdown",
   "metadata": {},
   "source": [
    "NH3uM,C14As1,DarkAs,MeanAs,LightP have missing values > 7,00,000. Hence dropping them."
   ]
  },
  {
   "cell_type": "code",
   "execution_count": 12,
   "metadata": {},
   "outputs": [],
   "source": [
    "missing_val_col = ['NH3uM','C14As1','DarkAs','MeanAs','LightP','O2ml_L','O2Sat']\n",
    "bottleCopy.drop(columns = missing_val_col, inplace = True)"
   ]
  },
  {
   "cell_type": "code",
   "execution_count": 13,
   "metadata": {},
   "outputs": [],
   "source": [
    "#Dropping rows where output variable is null\n",
    "bottleCopy.dropna(subset = ['T_degC'],inplace = True)"
   ]
  },
  {
   "cell_type": "markdown",
   "metadata": {},
   "source": [
    "## Sta_ID is of line number and Station number"
   ]
  },
  {
   "cell_type": "code",
   "execution_count": 14,
   "metadata": {},
   "outputs": [],
   "source": [
    "bottleCopy['Sta_ID'] = bottleCopy['Sta_ID'].astype(str)\n",
    "bottleCopy[['Line_Number', 'Station_Number']] = bottleCopy['Sta_ID'].str.split(expand=True)\n",
    "bottleCopy['Line_Number'] = pd.to_numeric(bottleCopy['Line_Number'], errors='coerce')\n",
    "bottleCopy['Station_Number'] = pd.to_numeric(bottleCopy['Station_Number'], errors='coerce')\n",
    "bottleCopy = bottleCopy.drop('Sta_ID',axis=1)"
   ]
  },
  {
   "cell_type": "code",
   "execution_count": 15,
   "metadata": {},
   "outputs": [
    {
     "name": "stdout",
     "output_type": "stream",
     "text": [
      "<class 'pandas.core.frame.DataFrame'>\n",
      "Index: 853900 entries, 0 to 864862\n",
      "Data columns (total 13 columns):\n",
      " #   Column          Non-Null Count   Dtype  \n",
      "---  ------          --------------   -----  \n",
      " 0   Depthm          853900 non-null  int64  \n",
      " 1   T_degC          853900 non-null  float64\n",
      " 2   Salnty          814247 non-null  float64\n",
      " 3   STheta          812174 non-null  float64\n",
      " 4   Oxy_µmol/Kg     661268 non-null  float64\n",
      " 5   ChlorA          222184 non-null  float64\n",
      " 6   Phaeop          222183 non-null  float64\n",
      " 7   PO4uM           410803 non-null  float64\n",
      " 8   SiO3uM          352597 non-null  float64\n",
      " 9   NO2uM           336242 non-null  float64\n",
      " 10  NO3uM           335927 non-null  float64\n",
      " 11  Line_Number     853900 non-null  float64\n",
      " 12  Station_Number  853900 non-null  float64\n",
      "dtypes: float64(12), int64(1)\n",
      "memory usage: 91.2 MB\n"
     ]
    }
   ],
   "source": [
    "bottleCopy.info()"
   ]
  },
  {
   "cell_type": "code",
   "execution_count": 16,
   "metadata": {},
   "outputs": [
    {
     "data": {
      "text/html": [
       "<div>\n",
       "<style scoped>\n",
       "    .dataframe tbody tr th:only-of-type {\n",
       "        vertical-align: middle;\n",
       "    }\n",
       "\n",
       "    .dataframe tbody tr th {\n",
       "        vertical-align: top;\n",
       "    }\n",
       "\n",
       "    .dataframe thead th {\n",
       "        text-align: right;\n",
       "    }\n",
       "</style>\n",
       "<table border=\"1\" class=\"dataframe\">\n",
       "  <thead>\n",
       "    <tr style=\"text-align: right;\">\n",
       "      <th></th>\n",
       "      <th>Depthm</th>\n",
       "      <th>T_degC</th>\n",
       "      <th>Salnty</th>\n",
       "      <th>STheta</th>\n",
       "      <th>Oxy_µmol/Kg</th>\n",
       "      <th>ChlorA</th>\n",
       "      <th>Phaeop</th>\n",
       "      <th>PO4uM</th>\n",
       "      <th>SiO3uM</th>\n",
       "      <th>NO2uM</th>\n",
       "      <th>NO3uM</th>\n",
       "      <th>Line_Number</th>\n",
       "      <th>Station_Number</th>\n",
       "    </tr>\n",
       "  </thead>\n",
       "  <tbody>\n",
       "    <tr>\n",
       "      <th>count</th>\n",
       "      <td>853900.000000</td>\n",
       "      <td>853900.000000</td>\n",
       "      <td>814247.000000</td>\n",
       "      <td>812174.000000</td>\n",
       "      <td>661268.000000</td>\n",
       "      <td>222184.000000</td>\n",
       "      <td>222183.000000</td>\n",
       "      <td>410803.000000</td>\n",
       "      <td>352597.000000</td>\n",
       "      <td>336242.000000</td>\n",
       "      <td>335927.000000</td>\n",
       "      <td>853900.000000</td>\n",
       "      <td>853900.000000</td>\n",
       "    </tr>\n",
       "    <tr>\n",
       "      <th>mean</th>\n",
       "      <td>228.503218</td>\n",
       "      <td>10.799677</td>\n",
       "      <td>33.841337</td>\n",
       "      <td>25.819394</td>\n",
       "      <td>148.808694</td>\n",
       "      <td>0.441139</td>\n",
       "      <td>0.194327</td>\n",
       "      <td>1.568797</td>\n",
       "      <td>26.674977</td>\n",
       "      <td>0.042289</td>\n",
       "      <td>17.349753</td>\n",
       "      <td>92.606315</td>\n",
       "      <td>66.636633</td>\n",
       "    </tr>\n",
       "    <tr>\n",
       "      <th>std</th>\n",
       "      <td>316.870919</td>\n",
       "      <td>4.243825</td>\n",
       "      <td>0.461636</td>\n",
       "      <td>1.167787</td>\n",
       "      <td>90.187533</td>\n",
       "      <td>1.186601</td>\n",
       "      <td>0.360817</td>\n",
       "      <td>1.036199</td>\n",
       "      <td>27.669554</td>\n",
       "      <td>0.104148</td>\n",
       "      <td>14.582618</td>\n",
       "      <td>22.374389</td>\n",
       "      <td>34.538395</td>\n",
       "    </tr>\n",
       "    <tr>\n",
       "      <th>min</th>\n",
       "      <td>0.000000</td>\n",
       "      <td>1.440000</td>\n",
       "      <td>28.431000</td>\n",
       "      <td>20.934000</td>\n",
       "      <td>-0.434900</td>\n",
       "      <td>-0.001000</td>\n",
       "      <td>-3.890000</td>\n",
       "      <td>0.000000</td>\n",
       "      <td>0.000000</td>\n",
       "      <td>0.000000</td>\n",
       "      <td>-0.400000</td>\n",
       "      <td>1.000000</td>\n",
       "      <td>0.000000</td>\n",
       "    </tr>\n",
       "    <tr>\n",
       "      <th>25%</th>\n",
       "      <td>48.000000</td>\n",
       "      <td>7.680000</td>\n",
       "      <td>33.489000</td>\n",
       "      <td>24.965000</td>\n",
       "      <td>60.915470</td>\n",
       "      <td>0.050000</td>\n",
       "      <td>0.050000</td>\n",
       "      <td>0.470000</td>\n",
       "      <td>3.200000</td>\n",
       "      <td>0.000000</td>\n",
       "      <td>0.600000</td>\n",
       "      <td>80.000000</td>\n",
       "      <td>45.000000</td>\n",
       "    </tr>\n",
       "    <tr>\n",
       "      <th>50%</th>\n",
       "      <td>125.000000</td>\n",
       "      <td>10.060000</td>\n",
       "      <td>33.866000</td>\n",
       "      <td>25.996000</td>\n",
       "      <td>151.064150</td>\n",
       "      <td>0.160000</td>\n",
       "      <td>0.110000</td>\n",
       "      <td>1.580000</td>\n",
       "      <td>18.100000</td>\n",
       "      <td>0.010000</td>\n",
       "      <td>18.200000</td>\n",
       "      <td>90.000000</td>\n",
       "      <td>60.000000</td>\n",
       "    </tr>\n",
       "    <tr>\n",
       "      <th>75%</th>\n",
       "      <td>300.000000</td>\n",
       "      <td>13.880000</td>\n",
       "      <td>34.197000</td>\n",
       "      <td>26.646000</td>\n",
       "      <td>240.379600</td>\n",
       "      <td>0.380000</td>\n",
       "      <td>0.230000</td>\n",
       "      <td>2.480000</td>\n",
       "      <td>41.700000</td>\n",
       "      <td>0.030000</td>\n",
       "      <td>30.000000</td>\n",
       "      <td>103.300000</td>\n",
       "      <td>80.000000</td>\n",
       "    </tr>\n",
       "    <tr>\n",
       "      <th>max</th>\n",
       "      <td>5351.000000</td>\n",
       "      <td>31.140000</td>\n",
       "      <td>37.034000</td>\n",
       "      <td>250.784000</td>\n",
       "      <td>485.701800</td>\n",
       "      <td>66.110000</td>\n",
       "      <td>65.300000</td>\n",
       "      <td>5.210000</td>\n",
       "      <td>196.000000</td>\n",
       "      <td>8.190000</td>\n",
       "      <td>95.000000</td>\n",
       "      <td>176.700000</td>\n",
       "      <td>531.000000</td>\n",
       "    </tr>\n",
       "  </tbody>\n",
       "</table>\n",
       "</div>"
      ],
      "text/plain": [
       "              Depthm         T_degC         Salnty         STheta  \\\n",
       "count  853900.000000  853900.000000  814247.000000  812174.000000   \n",
       "mean      228.503218      10.799677      33.841337      25.819394   \n",
       "std       316.870919       4.243825       0.461636       1.167787   \n",
       "min         0.000000       1.440000      28.431000      20.934000   \n",
       "25%        48.000000       7.680000      33.489000      24.965000   \n",
       "50%       125.000000      10.060000      33.866000      25.996000   \n",
       "75%       300.000000      13.880000      34.197000      26.646000   \n",
       "max      5351.000000      31.140000      37.034000     250.784000   \n",
       "\n",
       "         Oxy_µmol/Kg         ChlorA         Phaeop          PO4uM  \\\n",
       "count  661268.000000  222184.000000  222183.000000  410803.000000   \n",
       "mean      148.808694       0.441139       0.194327       1.568797   \n",
       "std        90.187533       1.186601       0.360817       1.036199   \n",
       "min        -0.434900      -0.001000      -3.890000       0.000000   \n",
       "25%        60.915470       0.050000       0.050000       0.470000   \n",
       "50%       151.064150       0.160000       0.110000       1.580000   \n",
       "75%       240.379600       0.380000       0.230000       2.480000   \n",
       "max       485.701800      66.110000      65.300000       5.210000   \n",
       "\n",
       "              SiO3uM          NO2uM          NO3uM    Line_Number  \\\n",
       "count  352597.000000  336242.000000  335927.000000  853900.000000   \n",
       "mean       26.674977       0.042289      17.349753      92.606315   \n",
       "std        27.669554       0.104148      14.582618      22.374389   \n",
       "min         0.000000       0.000000      -0.400000       1.000000   \n",
       "25%         3.200000       0.000000       0.600000      80.000000   \n",
       "50%        18.100000       0.010000      18.200000      90.000000   \n",
       "75%        41.700000       0.030000      30.000000     103.300000   \n",
       "max       196.000000       8.190000      95.000000     176.700000   \n",
       "\n",
       "       Station_Number  \n",
       "count   853900.000000  \n",
       "mean        66.636633  \n",
       "std         34.538395  \n",
       "min          0.000000  \n",
       "25%         45.000000  \n",
       "50%         60.000000  \n",
       "75%         80.000000  \n",
       "max        531.000000  "
      ]
     },
     "execution_count": 16,
     "metadata": {},
     "output_type": "execute_result"
    }
   ],
   "source": [
    "bottleCopy.describe()"
   ]
  },
  {
   "cell_type": "markdown",
   "metadata": {},
   "source": [
    "min value of ChlorA,Phaeop,NO3uM have negative values."
   ]
  },
  {
   "cell_type": "code",
   "execution_count": 17,
   "metadata": {},
   "outputs": [],
   "source": [
    "negative_cols = ['ChlorA','Phaeop','NO3uM','Oxy_µmol/Kg']\n",
    "bottleCopy[negative_cols] = bottleCopy[negative_cols].mask(bottleCopy[negative_cols]<0,0)"
   ]
  },
  {
   "cell_type": "code",
   "execution_count": 18,
   "metadata": {
    "scrolled": true
   },
   "outputs": [
    {
     "data": {
      "text/html": [
       "<div>\n",
       "<style scoped>\n",
       "    .dataframe tbody tr th:only-of-type {\n",
       "        vertical-align: middle;\n",
       "    }\n",
       "\n",
       "    .dataframe tbody tr th {\n",
       "        vertical-align: top;\n",
       "    }\n",
       "\n",
       "    .dataframe thead th {\n",
       "        text-align: right;\n",
       "    }\n",
       "</style>\n",
       "<table border=\"1\" class=\"dataframe\">\n",
       "  <thead>\n",
       "    <tr style=\"text-align: right;\">\n",
       "      <th></th>\n",
       "      <th>count</th>\n",
       "      <th>mean</th>\n",
       "      <th>std</th>\n",
       "      <th>min</th>\n",
       "      <th>25%</th>\n",
       "      <th>50%</th>\n",
       "      <th>75%</th>\n",
       "      <th>max</th>\n",
       "    </tr>\n",
       "  </thead>\n",
       "  <tbody>\n",
       "    <tr>\n",
       "      <th>Depthm</th>\n",
       "      <td>853900.0</td>\n",
       "      <td>228.503218</td>\n",
       "      <td>316.870919</td>\n",
       "      <td>0.000</td>\n",
       "      <td>48.00000</td>\n",
       "      <td>125.00000</td>\n",
       "      <td>300.0000</td>\n",
       "      <td>5351.0000</td>\n",
       "    </tr>\n",
       "    <tr>\n",
       "      <th>T_degC</th>\n",
       "      <td>853900.0</td>\n",
       "      <td>10.799677</td>\n",
       "      <td>4.243825</td>\n",
       "      <td>1.440</td>\n",
       "      <td>7.68000</td>\n",
       "      <td>10.06000</td>\n",
       "      <td>13.8800</td>\n",
       "      <td>31.1400</td>\n",
       "    </tr>\n",
       "    <tr>\n",
       "      <th>Salnty</th>\n",
       "      <td>814247.0</td>\n",
       "      <td>33.841337</td>\n",
       "      <td>0.461636</td>\n",
       "      <td>28.431</td>\n",
       "      <td>33.48900</td>\n",
       "      <td>33.86600</td>\n",
       "      <td>34.1970</td>\n",
       "      <td>37.0340</td>\n",
       "    </tr>\n",
       "    <tr>\n",
       "      <th>STheta</th>\n",
       "      <td>812174.0</td>\n",
       "      <td>25.819394</td>\n",
       "      <td>1.167787</td>\n",
       "      <td>20.934</td>\n",
       "      <td>24.96500</td>\n",
       "      <td>25.99600</td>\n",
       "      <td>26.6460</td>\n",
       "      <td>250.7840</td>\n",
       "    </tr>\n",
       "    <tr>\n",
       "      <th>Oxy_µmol/Kg</th>\n",
       "      <td>661268.0</td>\n",
       "      <td>148.808697</td>\n",
       "      <td>90.187529</td>\n",
       "      <td>0.000</td>\n",
       "      <td>60.91547</td>\n",
       "      <td>151.06415</td>\n",
       "      <td>240.3796</td>\n",
       "      <td>485.7018</td>\n",
       "    </tr>\n",
       "    <tr>\n",
       "      <th>ChlorA</th>\n",
       "      <td>222184.0</td>\n",
       "      <td>0.441139</td>\n",
       "      <td>1.186601</td>\n",
       "      <td>0.000</td>\n",
       "      <td>0.05000</td>\n",
       "      <td>0.16000</td>\n",
       "      <td>0.3800</td>\n",
       "      <td>66.1100</td>\n",
       "    </tr>\n",
       "    <tr>\n",
       "      <th>Phaeop</th>\n",
       "      <td>222183.0</td>\n",
       "      <td>0.194388</td>\n",
       "      <td>0.360582</td>\n",
       "      <td>0.000</td>\n",
       "      <td>0.05000</td>\n",
       "      <td>0.11000</td>\n",
       "      <td>0.2300</td>\n",
       "      <td>65.3000</td>\n",
       "    </tr>\n",
       "    <tr>\n",
       "      <th>PO4uM</th>\n",
       "      <td>410803.0</td>\n",
       "      <td>1.568797</td>\n",
       "      <td>1.036199</td>\n",
       "      <td>0.000</td>\n",
       "      <td>0.47000</td>\n",
       "      <td>1.58000</td>\n",
       "      <td>2.4800</td>\n",
       "      <td>5.2100</td>\n",
       "    </tr>\n",
       "    <tr>\n",
       "      <th>SiO3uM</th>\n",
       "      <td>352597.0</td>\n",
       "      <td>26.674977</td>\n",
       "      <td>27.669554</td>\n",
       "      <td>0.000</td>\n",
       "      <td>3.20000</td>\n",
       "      <td>18.10000</td>\n",
       "      <td>41.7000</td>\n",
       "      <td>196.0000</td>\n",
       "    </tr>\n",
       "    <tr>\n",
       "      <th>NO2uM</th>\n",
       "      <td>336242.0</td>\n",
       "      <td>0.042289</td>\n",
       "      <td>0.104148</td>\n",
       "      <td>0.000</td>\n",
       "      <td>0.00000</td>\n",
       "      <td>0.01000</td>\n",
       "      <td>0.0300</td>\n",
       "      <td>8.1900</td>\n",
       "    </tr>\n",
       "    <tr>\n",
       "      <th>NO3uM</th>\n",
       "      <td>335927.0</td>\n",
       "      <td>17.349757</td>\n",
       "      <td>14.582614</td>\n",
       "      <td>0.000</td>\n",
       "      <td>0.60000</td>\n",
       "      <td>18.20000</td>\n",
       "      <td>30.0000</td>\n",
       "      <td>95.0000</td>\n",
       "    </tr>\n",
       "    <tr>\n",
       "      <th>Line_Number</th>\n",
       "      <td>853900.0</td>\n",
       "      <td>92.606315</td>\n",
       "      <td>22.374389</td>\n",
       "      <td>1.000</td>\n",
       "      <td>80.00000</td>\n",
       "      <td>90.00000</td>\n",
       "      <td>103.3000</td>\n",
       "      <td>176.7000</td>\n",
       "    </tr>\n",
       "    <tr>\n",
       "      <th>Station_Number</th>\n",
       "      <td>853900.0</td>\n",
       "      <td>66.636633</td>\n",
       "      <td>34.538395</td>\n",
       "      <td>0.000</td>\n",
       "      <td>45.00000</td>\n",
       "      <td>60.00000</td>\n",
       "      <td>80.0000</td>\n",
       "      <td>531.0000</td>\n",
       "    </tr>\n",
       "  </tbody>\n",
       "</table>\n",
       "</div>"
      ],
      "text/plain": [
       "                   count        mean         std     min       25%        50%  \\\n",
       "Depthm          853900.0  228.503218  316.870919   0.000  48.00000  125.00000   \n",
       "T_degC          853900.0   10.799677    4.243825   1.440   7.68000   10.06000   \n",
       "Salnty          814247.0   33.841337    0.461636  28.431  33.48900   33.86600   \n",
       "STheta          812174.0   25.819394    1.167787  20.934  24.96500   25.99600   \n",
       "Oxy_µmol/Kg     661268.0  148.808697   90.187529   0.000  60.91547  151.06415   \n",
       "ChlorA          222184.0    0.441139    1.186601   0.000   0.05000    0.16000   \n",
       "Phaeop          222183.0    0.194388    0.360582   0.000   0.05000    0.11000   \n",
       "PO4uM           410803.0    1.568797    1.036199   0.000   0.47000    1.58000   \n",
       "SiO3uM          352597.0   26.674977   27.669554   0.000   3.20000   18.10000   \n",
       "NO2uM           336242.0    0.042289    0.104148   0.000   0.00000    0.01000   \n",
       "NO3uM           335927.0   17.349757   14.582614   0.000   0.60000   18.20000   \n",
       "Line_Number     853900.0   92.606315   22.374389   1.000  80.00000   90.00000   \n",
       "Station_Number  853900.0   66.636633   34.538395   0.000  45.00000   60.00000   \n",
       "\n",
       "                     75%        max  \n",
       "Depthm          300.0000  5351.0000  \n",
       "T_degC           13.8800    31.1400  \n",
       "Salnty           34.1970    37.0340  \n",
       "STheta           26.6460   250.7840  \n",
       "Oxy_µmol/Kg     240.3796   485.7018  \n",
       "ChlorA            0.3800    66.1100  \n",
       "Phaeop            0.2300    65.3000  \n",
       "PO4uM             2.4800     5.2100  \n",
       "SiO3uM           41.7000   196.0000  \n",
       "NO2uM             0.0300     8.1900  \n",
       "NO3uM            30.0000    95.0000  \n",
       "Line_Number     103.3000   176.7000  \n",
       "Station_Number   80.0000   531.0000  "
      ]
     },
     "execution_count": 18,
     "metadata": {},
     "output_type": "execute_result"
    }
   ],
   "source": [
    "bottleCopy.describe().T"
   ]
  },
  {
   "cell_type": "code",
   "execution_count": 19,
   "metadata": {},
   "outputs": [
    {
     "data": {
      "text/plain": [
       "<Axes: >"
      ]
     },
     "execution_count": 19,
     "metadata": {},
     "output_type": "execute_result"
    },
    {
     "data": {
      "image/png": "[encoded data removed]",
      "text/plain": [
       "<Figure size 640x480 with 1 Axes>"
      ]
     },
     "metadata": {},
     "output_type": "display_data"
    }
   ],
   "source": [
    "sns.heatmap(bottleCopy.isnull(), cbar=False, cmap='viridis')"
   ]
  },
  {
   "cell_type": "code",
   "execution_count": 20,
   "metadata": {},
   "outputs": [
    {
     "data": {
      "text/plain": [
       "Depthm            100407.179613\n",
       "T_degC                18.010048\n",
       "Salnty                 0.213108\n",
       "STheta                 1.363727\n",
       "Oxy_µmol/Kg         8133.790409\n",
       "ChlorA                 1.408022\n",
       "Phaeop                 0.130020\n",
       "PO4uM                  1.073707\n",
       "SiO3uM               765.604235\n",
       "NO2uM                  0.010847\n",
       "NO3uM                212.652627\n",
       "Line_Number          500.613289\n",
       "Station_Number      1192.900722\n",
       "dtype: float64"
      ]
     },
     "execution_count": 20,
     "metadata": {},
     "output_type": "execute_result"
    }
   ],
   "source": [
    "prev_var = bottleCopy.var()\n",
    "prev_var"
   ]
  },
  {
   "cell_type": "code",
   "execution_count": 24,
   "metadata": {},
   "outputs": [
    {
     "data": {
      "image/png": "[encoded data removed]",
      "text/plain": [
       "<Figure size 640x480 with 1 Axes>"
      ]
     },
     "metadata": {},
     "output_type": "display_data"
    },
    {
     "data": {
      "image/png": "[encoded data removed]",
      "text/plain": [
       "<Figure size 640x480 with 1 Axes>"
      ]
     },
     "metadata": {},
     "output_type": "display_data"
    },
    {
     "data": {
      "image/png": "[encoded data removed]",
      "text/plain": [
       "<Figure size 640x480 with 1 Axes>"
      ]
     },
     "metadata": {},
     "output_type": "display_data"
    },
    {
     "data": {
      "image/png": "[encoded data removed]",
      "text/plain": [
       "<Figure size 640x480 with 1 Axes>"
      ]
     },
     "metadata": {},
     "output_type": "display_data"
    },
    {
     "data": {
      "image/png": "[encoded data removed]",
      "text/plain": [
       "<Figure size 640x480 with 1 Axes>"
      ]
     },
     "metadata": {},
     "output_type": "display_data"
    },
    {
     "data": {
      "image/png": "[encoded data removed]",
      "text/plain": [
       "<Figure size 640x480 with 1 Axes>"
      ]
     },
     "metadata": {},
     "output_type": "display_data"
    },
    {
     "data": {
      "image/png": "[encoded data removed]",
      "text/plain": [
       "<Figure size 640x480 with 1 Axes>"
      ]
     },
     "metadata": {},
     "output_type": "display_data"
    },
    {
     "data": {
      "image/png": "[encoded data removed]",
      "text/plain": [
       "<Figure size 640x480 with 1 Axes>"
      ]
     },
     "metadata": {},
     "output_type": "display_data"
    },
    {
     "data": {
      "image/png": "[encoded data removed]",
      "text/plain": [
       "<Figure size 640x480 with 1 Axes>"
      ]
     },
     "metadata": {},
     "output_type": "display_data"
    },
    {
     "data": {
      "image/png": "[encoded data removed]",
      "text/plain": [
       "<Figure size 640x480 with 1 Axes>"
      ]
     },
     "metadata": {},
     "output_type": "display_data"
    },
    {
     "data": {
      "image/png": "[encoded data removed]",
      "text/plain": [
       "<Figure size 640x480 with 1 Axes>"
      ]
     },
     "metadata": {},
     "output_type": "display_data"
    },
    {
     "data": {
      "image/png": "[encoded data removed]",
      "text/plain": [
       "<Figure size 640x480 with 1 Axes>"
      ]
     },
     "metadata": {},
     "output_type": "display_data"
    }
   ],
   "source": [
    "#Distribution analysis before imputation\n",
    "for i in bottleCopy.columns:\n",
    "    if i != \"T_degC\":\n",
    "        plt.hist(bottleCopy[i])\n",
    "        # Add labels and title\n",
    "        plt.xlabel(i) \n",
    "        plt.show()\n",
    "\n",
    "# Data is skewed , could have used transformation like Box-Cox"
   ]
  },
  {
   "cell_type": "code",
   "execution_count": 25,
   "metadata": {},
   "outputs": [],
   "source": [
    "# #Boxplot\n",
    "# for i in bottleCopy.columns:\n",
    "#     plt.boxplot(bottleCopy[i])\n",
    "#     # Add labels and title\n",
    "#     plt.xlabel(i) \n",
    "#     plt.show()"
   ]
  },
  {
   "cell_type": "code",
   "execution_count": 23,
   "metadata": {},
   "outputs": [],
   "source": [
    "bottleCopy_median = bottleCopy.fillna(bottleCopy.median())\n",
    "bottleCopy_mean = bottleCopy.fillna(bottleCopy.mean())"
   ]
  },
  {
   "cell_type": "code",
   "execution_count": 31,
   "metadata": {},
   "outputs": [
    {
     "name": "stdout",
     "output_type": "stream",
     "text": [
      "Depthm            100407.179613\n",
      "T_degC                18.010048\n",
      "Salnty                 0.213108\n",
      "STheta                 1.363727\n",
      "Oxy_µmol/Kg         8133.790409\n",
      "ChlorA                 1.408022\n",
      "Phaeop                 0.130020\n",
      "PO4uM                  1.073707\n",
      "SiO3uM               765.604235\n",
      "NO2uM                  0.010847\n",
      "NO3uM                212.652627\n",
      "Line_Number          500.613289\n",
      "Station_Number      1192.900722\n",
      "dtype: float64\n",
      "Depthm            100407.179613\n",
      "T_degC                18.010048\n",
      "Salnty                 0.203211\n",
      "STheta                 1.297088\n",
      "Oxy_µmol/Kg         6298.879823\n",
      "ChlorA                 0.366365\n",
      "Phaeop                 0.033831\n",
      "PO4uM                  0.516550\n",
      "SiO3uM               316.136909\n",
      "NO2uM                  0.004271\n",
      "NO3uM                 83.658075\n",
      "Line_Number          500.613289\n",
      "Station_Number      1192.900722\n",
      "dtype: float64\n"
     ]
    }
   ],
   "source": [
    "\n",
    "ori_var = bottleCopy.var()\n",
    "mean_var = bottleCopy_mean.var()\n",
    "print(ori_var)\n",
    "print(mean_var)"
   ]
  },
  {
   "cell_type": "code",
   "execution_count": 33,
   "metadata": {},
   "outputs": [
    {
     "data": {
      "text/plain": [
       "Depthm               0.000000\n",
       "T_degC               0.000000\n",
       "Salnty               0.009896\n",
       "STheta               0.066639\n",
       "Oxy_µmol/Kg       1834.910585\n",
       "ChlorA               1.041657\n",
       "Phaeop               0.096189\n",
       "PO4uM                0.557158\n",
       "SiO3uM             449.467326\n",
       "NO2uM                0.006576\n",
       "NO3uM              128.994552\n",
       "Line_Number          0.000000\n",
       "Station_Number       0.000000\n",
       "dtype: float64"
      ]
     },
     "execution_count": 33,
     "metadata": {},
     "output_type": "execute_result"
    }
   ],
   "source": [
    "(ori_var) - (mean_var)"
   ]
  },
  {
   "cell_type": "code",
   "execution_count": 30,
   "metadata": {},
   "outputs": [
    {
     "name": "stdout",
     "output_type": "stream",
     "text": [
      "Depthm            100407.179613\n",
      "T_degC                18.010048\n",
      "Salnty                 0.213108\n",
      "STheta                 1.363727\n",
      "Oxy_µmol/Kg         8133.790409\n",
      "ChlorA                 1.408022\n",
      "Phaeop                 0.130020\n",
      "PO4uM                  1.073707\n",
      "SiO3uM               765.604235\n",
      "NO2uM                  0.010847\n",
      "NO3uM                212.652627\n",
      "Line_Number          500.613289\n",
      "Station_Number      1192.900722\n",
      "dtype: float64\n",
      "Depthm            100407.179613\n",
      "T_degC                18.010048\n",
      "Salnty                 0.203238\n",
      "STheta                 1.298537\n",
      "Oxy_µmol/Kg         6299.768533\n",
      "ChlorA                 0.381580\n",
      "Phaeop                 0.035202\n",
      "PO4uM                  0.516581\n",
      "SiO3uM               333.961983\n",
      "NO2uM                  0.004520\n",
      "NO3uM                 83.830589\n",
      "Line_Number          500.613289\n",
      "Station_Number      1192.900722\n",
      "dtype: float64\n"
     ]
    }
   ],
   "source": [
    "ori_var = bottleCopy.var()\n",
    "median_var = bottleCopy_median.var()\n",
    "print(ori_var)\n",
    "print(median_var)"
   ]
  },
  {
   "cell_type": "code",
   "execution_count": 34,
   "metadata": {},
   "outputs": [
    {
     "data": {
      "text/plain": [
       "Depthm               0.000000\n",
       "T_degC               0.000000\n",
       "Salnty               0.009869\n",
       "STheta               0.065189\n",
       "Oxy_µmol/Kg       1834.021875\n",
       "ChlorA               1.026442\n",
       "Phaeop               0.094818\n",
       "PO4uM                0.557126\n",
       "SiO3uM             431.642252\n",
       "NO2uM                0.006327\n",
       "NO3uM              128.822038\n",
       "Line_Number          0.000000\n",
       "Station_Number       0.000000\n",
       "dtype: float64"
      ]
     },
     "execution_count": 34,
     "metadata": {},
     "output_type": "execute_result"
    }
   ],
   "source": [
    "(ori_var) - (median_var)"
   ]
  },
  {
   "cell_type": "code",
   "execution_count": 27,
   "metadata": {},
   "outputs": [
    {
     "data": {
      "text/plain": [
       "Depthm             0.000000\n",
       "T_degC             0.000000\n",
       "Salnty             0.000027\n",
       "STheta             0.001450\n",
       "Oxy_µmol/Kg        0.888710\n",
       "ChlorA             0.015215\n",
       "Phaeop             0.001371\n",
       "PO4uM              0.000031\n",
       "SiO3uM            17.825074\n",
       "NO2uM              0.000249\n",
       "NO3uM              0.172514\n",
       "Line_Number        0.000000\n",
       "Station_Number     0.000000\n",
       "dtype: float64"
      ]
     },
     "execution_count": 27,
     "metadata": {},
     "output_type": "execute_result"
    }
   ],
   "source": [
    "# (median_var) - (mean_var)\n",
    "# The output is explaining using median is slighly worse than mean."
   ]
  },
  {
   "cell_type": "code",
   "execution_count": null,
   "metadata": {},
   "outputs": [],
   "source": [
    "# Univariate analysis\n",
    "for i in bottleCopy.columns:\n",
    "    if i != \"T_degC\":\n",
    "        plt.scatter(x=bottleCopy[i], y=bottleCopy['T_degC'])\n",
    "        \n",
    "        # Add labels and title\n",
    "        plt.xlabel(i)\n",
    "        plt.ylabel('Temperature (°C)')  \n",
    "        plt.show()"
   ]
  },
  {
   "cell_type": "code",
   "execution_count": null,
   "metadata": {},
   "outputs": [],
   "source": [
    "# Distribution of data\n",
    "for i in bottleCopy.columns:\n",
    "    bottleCopy[i].hist(bins=50)\n",
    "    plt.xlabel(i)\n",
    "    #sns.histplot(new_df[i], bins=50, kde=True)\n",
    "    plt.show()"
   ]
  },
  {
   "cell_type": "code",
   "execution_count": 230,
   "metadata": {},
   "outputs": [],
   "source": [
    "#final decision on imputation \n",
    "bottleCopy.fillna(bottleCopy.mean(), inplace=True,axis = 0)"
   ]
  },
  {
   "cell_type": "code",
   "execution_count": null,
   "metadata": {},
   "outputs": [],
   "source": [
    "bottleCopy.info()"
   ]
  },
  {
   "cell_type": "code",
   "execution_count": null,
   "metadata": {},
   "outputs": [],
   "source": [
    "#correlation matrix with output variable T_degC\n",
    "plt.figure(figsize=(15,15))\n",
    "print(sns.heatmap(pd.DataFrame(calculate_corr_matrix(bottleCopy.select_dtypes(include = \"number\"))),annot = True,cmap='coolwarm', linewidths=0.5))"
   ]
  },
  {
   "cell_type": "code",
   "execution_count": null,
   "metadata": {},
   "outputs": [],
   "source": [
    "step_size = 1000\n",
    "bottleCopy_downsampled = bottleCopy.iloc[::step_size, :]\n",
    "\n",
    "plt.figure(figsize=(12, 6))\n",
    "plt.plot(bottleCopy_downsampled.index, bottleCopy_downsampled['T_degC'], color='blue')\n",
    "plt.xlabel(\"index\")\n",
    "plt.ylabel(\"T_degC\")\n",
    "plt.show()"
   ]
  },
  {
   "cell_type": "code",
   "execution_count": null,
   "metadata": {},
   "outputs": [],
   "source": [
    "X = bottleCopy.drop(columns = [\"T_degC\"])\n",
    "y = bottleCopy['T_degC']\n",
    "X.columns"
   ]
  },
  {
   "cell_type": "code",
   "execution_count": 235,
   "metadata": {},
   "outputs": [],
   "source": [
    "X = myScaler(X)"
   ]
  },
  {
   "cell_type": "code",
   "execution_count": 267,
   "metadata": {},
   "outputs": [],
   "source": [
    "def train_test_split_custom(data, target, test_size=0.2):\n",
    "    mask = np.random.rand(len(data)) < (1 - test_size)\n",
    "    return data[mask], data[~mask], target[mask], target[~mask]\n"
   ]
  },
  {
   "cell_type": "code",
   "execution_count": 237,
   "metadata": {},
   "outputs": [],
   "source": [
    "def polynomial_features(X, degree):\n",
    "    # Ensure X is a 2D array\n",
    "    X = np.asarray(X)\n",
    "    if X.ndim == 1:\n",
    "        X = X[:, np.newaxis]  # Convert to 2D if X is 1D\n",
    "\n",
    "    # Generate polynomial features\n",
    "    poly_features = []\n",
    "    for d in range(1, degree + 1):\n",
    "        poly_features.append(X ** d)\n",
    "\n",
    "    return np.concatenate(poly_features, axis=1)\n"
   ]
  },
  {
   "cell_type": "code",
   "execution_count": 320,
   "metadata": {},
   "outputs": [],
   "source": [
    "X_train,X_test,y_train,y_test = train_test_split_custom(X,y,test_size = 0.3)"
   ]
  },
  {
   "cell_type": "code",
   "execution_count": 321,
   "metadata": {},
   "outputs": [],
   "source": [
    "mlr = MyLinearRegression(alpha = 0.01)"
   ]
  },
  {
   "cell_type": "markdown",
   "metadata": {},
   "source": [
    "#Linear regression"
   ]
  },
  {
   "cell_type": "code",
   "execution_count": null,
   "metadata": {},
   "outputs": [],
   "source": [
    "#Validation on train data using Linear Regression\n",
    "time_series_cross_validation(mlr, X_train, y_train, n_splits=5)"
   ]
  },
  {
   "cell_type": "code",
   "execution_count": null,
   "metadata": {},
   "outputs": [],
   "source": [
    "#Validation on test data using Linear Regression\n",
    "time_series_cross_validation(mlr, X_test, y_test, n_splits=5)"
   ]
  },
  {
   "cell_type": "code",
   "execution_count": null,
   "metadata": {},
   "outputs": [],
   "source": [
    "mlr.fit(X_train,y_train)\n",
    "y_pred = mlr.predict(X_test)\n",
    "print(\"T_degC mean: \",bottleCopy['T_degC'].mean())\n",
    "print(\"Y_test mean: \",y_test.mean())\n",
    "print(\"Algorithm average prediction: \",y_pred.sum()/len(y_pred))"
   ]
  },
  {
   "cell_type": "code",
   "execution_count": null,
   "metadata": {},
   "outputs": [],
   "source": [
    "plt.figure(figsize=(12, 6))\n",
    "plt.ylim(-20,y_pred.max())\n",
    "plt.plot(y_pred.index, y_pred, color='blue')\n",
    "plt.xlabel(\"index\")\n",
    "plt.ylabel(\"y_pred\")\n",
    "plt.show()"
   ]
  },
  {
   "cell_type": "code",
   "execution_count": null,
   "metadata": {},
   "outputs": [],
   "source": [
    "print(\"mean squared error on custom function:\",MSE(y_test,y_pred))"
   ]
  },
  {
   "cell_type": "markdown",
   "metadata": {},
   "source": [
    "# Polynomial regression of degree 2"
   ]
  },
  {
   "cell_type": "code",
   "execution_count": 338,
   "metadata": {},
   "outputs": [],
   "source": [
    "X_train_poly2 = polynomial_features(X_train,2)\n",
    "X_test_poly2 = polynomial_features(X_test,2)"
   ]
  },
  {
   "cell_type": "code",
   "execution_count": 339,
   "metadata": {},
   "outputs": [],
   "source": [
    "polymlr2 = MyLinearRegression()\n",
    "polymlr2.fit(X_train_poly2,y_train)"
   ]
  },
  {
   "cell_type": "code",
   "execution_count": null,
   "metadata": {},
   "outputs": [],
   "source": [
    "y_poly_pred2 = polymlr2.predict(X_test_poly2)\n",
    "print(\"mean squared error on custom function with degree 2 polynomial:\",MSE(y_test,y_poly_pred2))"
   ]
  },
  {
   "cell_type": "markdown",
   "metadata": {},
   "source": [
    "# Polynomial regression of degree 3"
   ]
  },
  {
   "cell_type": "code",
   "execution_count": 341,
   "metadata": {},
   "outputs": [],
   "source": [
    "X_train_poly3 = polynomial_features(X_train,3)\n",
    "X_test_poly3 = polynomial_features(X_test,3)"
   ]
  },
  {
   "cell_type": "code",
   "execution_count": 342,
   "metadata": {},
   "outputs": [],
   "source": [
    "polymlr3 = MyLinearRegression()\n",
    "polymlr3.fit(X_train_poly3,y_train)"
   ]
  },
  {
   "cell_type": "code",
   "execution_count": null,
   "metadata": {},
   "outputs": [],
   "source": [
    "y_poly_pred3 = polymlr3.predict(X_test_poly3)\n",
    "print(\"mean squared error on custom function with degree 5 polynomial:\",MSE(y_test,y_poly_pred3))"
   ]
  },
  {
   "cell_type": "markdown",
   "metadata": {},
   "source": [
    "# If null values are dropped completely"
   ]
  },
  {
   "cell_type": "code",
   "execution_count": 310,
   "metadata": {},
   "outputs": [],
   "source": [
    "bottled = copy.deepcopy(bottleData)\n",
    "redundant_columns = ['Cst_Cnt','Btl_Cnt','Depth_ID','BtlNum','RecInd','T_qual','S_prec','S_qual','P_qual','O_qual','SThtaq','O2Satq','Chlqua','Phaqua','PO4q','SiO3qu','NO2q','NO3q','NH3q','C14A1p','C14A1q','C14As2','C14A2p','C14A2q','DarkAp','DarkAq','MeanAp','MeanAq','IncTim','R_Depth','R_TEMP','R_POTEMP','R_SALINITY','R_SIGMA','R_SVA','R_DYNHT','R_O2','R_O2Sat','R_SIO3','R_PO4','R_NO3','R_NO2','R_NH4','R_CHLA','R_PHAEO','R_PRES','R_SAMP','DIC1','DIC2','TA1','TA2','pH1','pH2','DIC Quality Comment']\n",
    "bottled.drop(columns = redundant_columns,inplace = True)"
   ]
  },
  {
   "cell_type": "code",
   "execution_count": 311,
   "metadata": {},
   "outputs": [],
   "source": [
    "missing_val_col = ['NH3uM','C14As1','DarkAs','MeanAs','LightP','O2ml_L','O2Sat']\n",
    "bottled.drop(columns = missing_val_col, inplace = True)"
   ]
  },
  {
   "cell_type": "code",
   "execution_count": 312,
   "metadata": {},
   "outputs": [],
   "source": [
    "#Dropping rows where output variable is null\n",
    "bottled.dropna(subset = ['T_degC'],inplace = True)"
   ]
  },
  {
   "cell_type": "code",
   "execution_count": null,
   "metadata": {},
   "outputs": [],
   "source": [
    "bottled.info()"
   ]
  },
  {
   "cell_type": "code",
   "execution_count": 314,
   "metadata": {},
   "outputs": [],
   "source": [
    "bottled.dropna(inplace = True)"
   ]
  },
  {
   "cell_type": "code",
   "execution_count": null,
   "metadata": {},
   "outputs": [],
   "source": [
    "bottled.info()"
   ]
  },
  {
   "cell_type": "code",
   "execution_count": 316,
   "metadata": {},
   "outputs": [],
   "source": [
    "X_train_bottled,X_test_bottled,y_train_bottled,y_test_bottled = train_test_split_custom(X,y,test_size = 0.3)"
   ]
  },
  {
   "cell_type": "code",
   "execution_count": 317,
   "metadata": {},
   "outputs": [],
   "source": [
    "model = MyLinearRegression()\n",
    "model.fit(X_train_bottled,y_train_bottled)"
   ]
  },
  {
   "cell_type": "code",
   "execution_count": 318,
   "metadata": {},
   "outputs": [],
   "source": [
    "y_pred_bottle = model.predict(X_test_bottled)"
   ]
  },
  {
   "cell_type": "code",
   "execution_count": null,
   "metadata": {},
   "outputs": [],
   "source": [
    "print(y_pred_bottle.mean())\n",
    "print(y_test.mean())"
   ]
  }
 ],
 "metadata": {
  "colab": {
   "gpuType": "T4",
   "provenance": []
  },
  "kernelspec": {
   "display_name": "Python 3 (ipykernel)",
   "language": "python",
   "name": "python3"
  },
  "language_info": {
   "codemirror_mode": {
    "name": "ipython",
    "version": 3
   },
   "file_extension": ".py",
   "mimetype": "text/x-python",
   "name": "python",
   "nbconvert_exporter": "python",
   "pygments_lexer": "ipython3",
   "version": "3.12.4"
  }
 },
 "nbformat": 4,
 "nbformat_minor": 1
}
